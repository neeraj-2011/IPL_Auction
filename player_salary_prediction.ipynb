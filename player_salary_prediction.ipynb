{
 "cells": [
  {
   "cell_type": "code",
   "execution_count": 5,
   "metadata": {},
   "outputs": [],
   "source": [
    "# Import Libraries\n",
    "import pandas as pd\n",
    "import numpy as np\n",
    "from sklearn.model_selection import train_test_split\n",
    "from sklearn.linear_model import LinearRegression\n",
    "from sklearn.metrics import mean_squared_error\n",
    "import matplotlib.pyplot as plt\n",
    "import joblib\n",
    "\n",
    "# Load Data\n",
    "file_path = 'player.xlsx'\n",
    "df = pd.read_excel(file_path)\n"
   ]
  },
  {
   "cell_type": "code",
   "execution_count": 6,
   "metadata": {},
   "outputs": [
    {
     "data": {
      "text/html": [
       "<div>\n",
       "<style scoped>\n",
       "    .dataframe tbody tr th:only-of-type {\n",
       "        vertical-align: middle;\n",
       "    }\n",
       "\n",
       "    .dataframe tbody tr th {\n",
       "        vertical-align: top;\n",
       "    }\n",
       "\n",
       "    .dataframe thead th {\n",
       "        text-align: right;\n",
       "    }\n",
       "</style>\n",
       "<table border=\"1\" class=\"dataframe\">\n",
       "  <thead>\n",
       "    <tr style=\"text-align: right;\">\n",
       "      <th></th>\n",
       "      <th>Rank</th>\n",
       "      <th>Player</th>\n",
       "      <th>Team</th>\n",
       "      <th>RAA</th>\n",
       "      <th>Wins</th>\n",
       "      <th>EFscore</th>\n",
       "      <th>Salary</th>\n",
       "      <th>Value</th>\n",
       "      <th>Year</th>\n",
       "    </tr>\n",
       "  </thead>\n",
       "  <tbody>\n",
       "    <tr>\n",
       "      <th>0</th>\n",
       "      <td>1</td>\n",
       "      <td>SE Marsh</td>\n",
       "      <td>Kings XI Punjab</td>\n",
       "      <td>377</td>\n",
       "      <td>1.355</td>\n",
       "      <td>0.231</td>\n",
       "      <td>NaN</td>\n",
       "      <td>$1,270,355</td>\n",
       "      <td>2008</td>\n",
       "    </tr>\n",
       "    <tr>\n",
       "      <th>1</th>\n",
       "      <td>2</td>\n",
       "      <td>SR Watson</td>\n",
       "      <td>Rajasthan Royals</td>\n",
       "      <td>347</td>\n",
       "      <td>1.250</td>\n",
       "      <td>0.297</td>\n",
       "      <td>$125,000</td>\n",
       "      <td>$1,209,660</td>\n",
       "      <td>2008</td>\n",
       "    </tr>\n",
       "    <tr>\n",
       "      <th>2</th>\n",
       "      <td>3</td>\n",
       "      <td>Sohail Tanvir</td>\n",
       "      <td>Rajasthan Royals</td>\n",
       "      <td>294</td>\n",
       "      <td>1.059</td>\n",
       "      <td>0.194</td>\n",
       "      <td>NaN</td>\n",
       "      <td>$1,099,252</td>\n",
       "      <td>2008</td>\n",
       "    </tr>\n",
       "    <tr>\n",
       "      <th>3</th>\n",
       "      <td>4</td>\n",
       "      <td>G Gambhir</td>\n",
       "      <td>Delhi Daredevils</td>\n",
       "      <td>216</td>\n",
       "      <td>0.776</td>\n",
       "      <td>0.160</td>\n",
       "      <td>$725,000</td>\n",
       "      <td>$935,664</td>\n",
       "      <td>2008</td>\n",
       "    </tr>\n",
       "    <tr>\n",
       "      <th>4</th>\n",
       "      <td>5</td>\n",
       "      <td>GC Smith</td>\n",
       "      <td>Rajasthan Royals</td>\n",
       "      <td>202</td>\n",
       "      <td>0.725</td>\n",
       "      <td>0.139</td>\n",
       "      <td>$250,000</td>\n",
       "      <td>$906,183</td>\n",
       "      <td>2008</td>\n",
       "    </tr>\n",
       "  </tbody>\n",
       "</table>\n",
       "</div>"
      ],
      "text/plain": [
       "  Rank         Player              Team  RAA   Wins  EFscore    Salary  \\\n",
       "0  1         SE Marsh   Kings XI Punjab  377  1.355    0.231       NaN   \n",
       "1  2        SR Watson  Rajasthan Royals  347  1.250    0.297  $125,000   \n",
       "2  3    Sohail Tanvir  Rajasthan Royals  294  1.059    0.194       NaN   \n",
       "3  4        G Gambhir  Delhi Daredevils  216  0.776    0.160  $725,000   \n",
       "4  5         GC Smith  Rajasthan Royals  202  0.725    0.139  $250,000   \n",
       "\n",
       "        Value  Year  \n",
       "0  $1,270,355  2008  \n",
       "1  $1,209,660  2008  \n",
       "2  $1,099,252  2008  \n",
       "3    $935,664  2008  \n",
       "4    $906,183  2008  "
      ]
     },
     "execution_count": 6,
     "metadata": {},
     "output_type": "execute_result"
    }
   ],
   "source": [
    "# Display Data\n",
    "df.head()"
   ]
  },
  {
   "cell_type": "markdown",
   "metadata": {},
   "source": [
    "#Data Cleaning\n"
   ]
  },
  {
   "cell_type": "code",
   "execution_count": null,
   "metadata": {},
   "outputs": [],
   "source": [
    "# Drop irrelevant columns\n",
    "df = df.drop(['Rank', 'Team'], axis=1)"
   ]
  },
  {
   "cell_type": "code",
   "execution_count": null,
   "metadata": {},
   "outputs": [],
   "source": []
  },
  {
   "cell_type": "code",
   "execution_count": null,
   "metadata": {},
   "outputs": [],
   "source": []
  }
 ],
 "metadata": {
  "kernelspec": {
   "display_name": "venv",
   "language": "python",
   "name": "python3"
  },
  "language_info": {
   "codemirror_mode": {
    "name": "ipython",
    "version": 3
   },
   "file_extension": ".py",
   "mimetype": "text/x-python",
   "name": "python",
   "nbconvert_exporter": "python",
   "pygments_lexer": "ipython3",
   "version": "3.11.4"
  }
 },
 "nbformat": 4,
 "nbformat_minor": 2
}
